{
 "cells": [
  {
   "cell_type": "markdown",
   "metadata": {},
   "source": [
    "### Set up"
   ]
  },
  {
   "cell_type": "markdown",
   "metadata": {},
   "source": [
    "#### 1. Set  up  accounts and role"
   ]
  },
  {
   "cell_type": "code",
   "execution_count": 1,
   "metadata": {
    "pycharm": {
     "is_executing": true
    }
   },
   "outputs": [
    {
     "name": "stderr",
     "output_type": "stream",
     "text": [
      "/Users/aparnaelangovan/PycharmProjects/venv/HiddenCut/lib/python3.7/site-packages/boto3/compat.py:82: PythonDeprecationWarning: Boto3 will no longer support Python 3.7 starting December 13, 2023. To continue receiving service updates, bug fixes, and security updates please upgrade to Python 3.8 or later. More information can be found here: https://aws.amazon.com/blogs/developer/python-support-policy-updates-for-aws-sdks-and-tools/\n",
      "  warnings.warn(warning, PythonDeprecationWarning)\n"
     ]
    }
   ],
   "source": [
    "import sagemaker\n",
    "import boto3\n",
    "from uuid import uuid4\n",
    "\n",
    "sagemaker_session = sagemaker.Session()\n",
    "account_id =  boto3.client('sts').get_caller_identity().get('Account')\n",
    "region = boto3.session.Session().region_name\n",
    "\n",
    "\n",
    "#role = sagemaker.get_execution_role()\n",
    "role=\"arn:aws:iam::{}:role/service-role/AmazonSageMaker-ExecutionRole-20190118T115449\".format(account_id)\n",
    "step_func_role = \"arn:aws:iam::{}:role/AmazonSageMaker-StepFunctionsWorkflowExecutionRole\".format(account_id)\n",
    "max_runs=1"
   ]
  },
  {
   "cell_type": "markdown",
   "metadata": {},
   "source": [
    "#### 2. Setup image and instance type"
   ]
  },
  {
   "cell_type": "code",
   "execution_count": 2,
   "metadata": {},
   "outputs": [],
   "source": [
    "# pytorch_custom_image_name=\"ppi-extractor:gpu-1.0.0-201910130520\"\n",
    "instance_type = \"ml.p3.2xlarge\"\n",
    "instance_type_gpu_map = {\"ml.p3.8xlarge\":4, \"ml.p3.2xlarge\": 1, \"ml.p3.16xlarge\":8}"
   ]
  },
  {
   "cell_type": "code",
   "execution_count": 3,
   "metadata": {},
   "outputs": [],
   "source": [
    "# docker_repo = \"{}.dkr.ecr.{}.amazonaws.com/{}\".format(account_id, region, pytorch_custom_image_name)"
   ]
  },
  {
   "cell_type": "markdown",
   "metadata": {},
   "source": [
    "#### 3. Configure train/ test and validation datasets"
   ]
  },
  {
   "cell_type": "code",
   "execution_count": 4,
   "metadata": {},
   "outputs": [],
   "source": [
    "bucket = \"aegovan-data\""
   ]
  },
  {
   "cell_type": "code",
   "execution_count": 5,
   "metadata": {},
   "outputs": [],
   "source": [
    "pretrained_bert=\"s3://{}/embeddings/bert/\".format(bucket)\n",
    "\n",
    "# abstract_train_prefix= \"s3://aegovan-data/chemprot_adversarial/\"\n",
    "# abstract_testfile= \"s3://{}/chemprot_adversarial/chemprot_abstract_test.json\".format(bucket)\n",
    "# abstract_valfile=\"s3://{}/chemprot_adversarial/chemprot_abstract_val.json\".format(bucket)\n",
    "\n",
    "# abstract_train_prefix=\"s3://aegovan-data/chemprot_adversarial/202212041518/affable\"\n",
    "# abstract_testfile= \"s3://{}/chemprot_adversarial/202212041518/chemprot_abstract_test.json\".format(bucket)\n",
    "# abstract_valfile=\"s3://{}/chemprot_adversarial/202212041518/chemprot_abstract_val.json\".format(bucket)\n",
    "\n",
    "sst2_dataset = \"s3://aegovan-data/glue_full_set/SST-2/\"\n",
    "\n",
    "s3_output_path= \"s3://{}/hiddencut_sagemakerresults/\".format(bucket)\n",
    "s3_code_path= \"s3://{}/hiddencut_code\".format(bucket)\n",
    "s3_checkpoint = \"s3://{}/hiddencut_bert_checkpoint/{}\".format(bucket, str(uuid4()))"
   ]
  },
  {
   "cell_type": "markdown",
   "metadata": {},
   "source": [
    "### Start training"
   ]
  },
  {
   "cell_type": "code",
   "execution_count": 6,
   "metadata": {},
   "outputs": [],
   "source": [
    "sm_localcheckpoint_dir=\"/opt/ml/checkpoints/\"\n"
   ]
  },
  {
   "cell_type": "code",
   "execution_count": 7,
   "metadata": {},
   "outputs": [],
   "source": [
    "inputs = {\n",
    "    \"all\" : sst2_dataset\n",
    "}"
   ]
  },
  {
   "cell_type": "code",
   "execution_count": 9,
   "metadata": {},
   "outputs": [],
   "source": [
    "hyperparameters = {\n",
    "    \"model_name_or_path\":\"roberta-base\" \n",
    "  , \"data_dir\": \"/opt/ml/input/data/all\"\n",
    "  , \"task_name\": \"SST-2\"\n",
    "  , \"do_train\" : \"1\"\n",
    "  , \"do_eval\" : \"1\"\n",
    "  , \"evaluate_during_training\" :1\n",
    "  , \"do_aug\" : 1\n",
    "  , \"aug_type\" : 'attn_span_cutoff' \n",
    "  , \"aug_cutoff_ratio\" : \"0.1\"\n",
    "  , \"aug_ce_loss\": \"1.0\" \n",
    "  , \"aug_js_loss\" : \"1.0\" \n",
    "  , \"learning_rate\" : \"7e-6\" \n",
    "  , \"num_train_epochs\" : \"1\" \n",
    "  , \"logging_steps\" : \"30\"\n",
    "  , \"save_steps\" : \"30\"\n",
    "  , \"per_gpu_train_batch_size\": \"16\" \n",
    "  , \"output_dir\" : \"/opt/ml/model\"\n",
    "  , \"early_stop\": 100\n",
    "  , \"seed\": 42}"
   ]
  },
  {
   "cell_type": "code",
   "execution_count": 10,
   "metadata": {},
   "outputs": [],
   "source": [
    "metric_definitions = [{\"Name\": \"TrainLoss\",\n",
    "                     \"Regex\": \"###score: train_loss### (\\d*[.]?\\d*)\"}\n",
    "                    ,{\"Name\": \"ValidationLoss\",\n",
    "                     \"Regex\": \"###score: val_loss### (\\d*[.]?\\d*)\"}\n",
    "                \n",
    "                    ,{\"Name\": \"TrainAucScore\",\n",
    "                     \"Regex\": \"###score: train_ResultScorerAucMacro_score### (\\d*[.]?\\d*)\"}\n",
    "                   ,{\"Name\": \"ValidationAucScore\",\n",
    "                     \"Regex\": \"###score: val_ResultScorerAucMacro_score### (\\d*[.]?\\d*)\"}\n",
    "                      \n",
    "                      \n",
    "                     ,{\"Name\": \"TrainF1BinaryScore\",\n",
    "                     \"Regex\": \"###score: train_ResultScorerF1Binary_score### (\\d*[.]?\\d*)\"}\n",
    "                   ,{\"Name\": \"ValidationF1BinaryScore\",\n",
    "                     \"Regex\": \"###score: val_ResultScorerF1Binary_score### (\\d*[.]?\\d*)\"}\n",
    "                    ]"
   ]
  },
  {
   "cell_type": "code",
   "execution_count": 11,
   "metadata": {},
   "outputs": [],
   "source": [
    "# set True if you need spot instance\n",
    "use_spot = False\n",
    "train_max_run_secs =   5 *24 * 60 * 60\n",
    "spot_wait_sec =  5 * 60\n",
    "max_wait_time_secs = train_max_run_secs +  spot_wait_sec\n",
    "\n",
    "if not use_spot:\n",
    "    max_wait_time_secs = None\n",
    "    \n",
    "# During local mode, no spot.., use smaller dataset\n",
    "if instance_type == 'local':\n",
    "    use_spot = False\n",
    "    max_wait_time_secs = 0\n",
    "    wait = True\n",
    "    # Use smaller dataset to run locally\n",
    "    # TODO:\n",
    "    #  inputs = inputs_sample"
   ]
  },
  {
   "cell_type": "code",
   "execution_count": 12,
   "metadata": {},
   "outputs": [],
   "source": [
    "import datetime\n",
    "date_fmt = datetime.datetime.today().strftime(\"%Y%m%d%H%M\")"
   ]
  },
  {
   "cell_type": "code",
   "execution_count": 13,
   "metadata": {},
   "outputs": [
    {
     "data": {
      "text/plain": [
       "{'model_name_or_path': 'roberta-base',\n",
       " 'data_dir': '/opt/ml/input/data/all',\n",
       " 'task_name': 'SST-2',\n",
       " 'do_train': '1',\n",
       " 'do_eval': '1',\n",
       " 'evaluate_during_training': 1,\n",
       " 'do_aug': 1,\n",
       " 'aug_type': 'attn_span_cutoff',\n",
       " 'aug_cutoff_ratio': '0.1',\n",
       " 'aug_ce_loss': '1.0',\n",
       " 'aug_js_loss': '1.0',\n",
       " 'learning_rate': '7e-6',\n",
       " 'num_train_epochs': '1',\n",
       " 'logging_steps': '30',\n",
       " 'save_steps': '30',\n",
       " 'per_gpu_train_batch_size': '16',\n",
       " 'output_dir': '/opt/ml/model',\n",
       " 'early_stop': 100,\n",
       " 'seed': 42}"
      ]
     },
     "execution_count": 13,
     "metadata": {},
     "output_type": "execute_result"
    }
   ],
   "source": [
    "hyperparameters"
   ]
  },
  {
   "cell_type": "code",
   "execution_count": 17,
   "metadata": {},
   "outputs": [
    {
     "name": "stdout",
     "output_type": "stream",
     "text": [
      "Using provided s3_resource\n"
     ]
    },
    {
     "name": "stderr",
     "output_type": "stream",
     "text": [
      "INFO:sagemaker.image_uris:image_uri is not presented, retrieving image_uri based on instance_type, framework etc.\n",
      "INFO:sagemaker:Creating training-job with name: hiddencut-sst2-2023-09-09-02-32-11-132\n"
     ]
    }
   ],
   "source": [
    "from sagemaker.pytorch import PyTorch\n",
    "from sagemaker.inputs import TrainingInput\n",
    "\n",
    "import random\n",
    "\n",
    "\n",
    "estimator = PyTorch(\n",
    "  entry_point='run_glue.py',\n",
    "                    source_dir = '../src',\n",
    "                    dependencies =['../src/transformers'],\n",
    "#                     git_config= git_config,\n",
    "#                     image_name= docker_repo,\n",
    "                    role=role,\n",
    "                    framework_version =\"1.4.0\",\n",
    "                    py_version='py3',\n",
    "                    instance_count=1,\n",
    "                    instance_type=instance_type,\n",
    "                    hyperparameters = hyperparameters,\n",
    "                    output_path=s3_output_path,\n",
    "                    metric_definitions=metric_definitions,\n",
    "                    volume_size=30,\n",
    "                    code_location=s3_code_path,\n",
    "                    debugger_hook_config=False,\n",
    "                    base_job_name = \"hiddencut-sst2\",  \n",
    "                    max_run =  train_max_run_secs,\n",
    "                    max_wait = max_wait_time_secs,   \n",
    ")\n",
    "\n",
    "\n",
    "estimator.fit(inputs, wait=False)"
   ]
  }
 ],
 "metadata": {
  "kernelspec": {
   "display_name": "Python 3 (ipykernel)",
   "language": "python",
   "name": "python3"
  },
  "language_info": {
   "codemirror_mode": {
    "name": "ipython",
    "version": 3
   },
   "file_extension": ".py",
   "mimetype": "text/x-python",
   "name": "python",
   "nbconvert_exporter": "python",
   "pygments_lexer": "ipython3",
   "version": "3.7.9"
  }
 },
 "nbformat": 4,
 "nbformat_minor": 1
}
